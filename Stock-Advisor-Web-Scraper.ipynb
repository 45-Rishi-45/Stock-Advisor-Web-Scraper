{
 "cells": [
  {
   "cell_type": "code",
   "execution_count": null,
   "metadata": {
    "vscode": {
     "languageId": "plaintext"
    }
   },
   "outputs": [],
   "source": [
    "!pip install bs4 pandas openpyxl requests"
   ]
  },
  {
   "cell_type": "code",
   "execution_count": null,
   "metadata": {
    "vscode": {
     "languageId": "plaintext"
    }
   },
   "outputs": [],
   "source": [
    "import requests\n",
    "from bs4 import BeautifulSoup\n",
    "import pandas as pd\n",
    "from openpyxl import Workbook\n",
    "\n",
    "# Define the base URL\n",
    "BASE_URL = \"https://www.advisorkhoj.com/Mumbai/Share-Trading-&-Demat-Advisor-%3Cnear%3E-Pin-Code-{pincode}?distance=40&experience=1&sortby=Recommended\"\n",
    "\n",
    "# Function to extract data from a specific pin code\n",
    "def extract_data(pincode):\n",
    "    url = BASE_URL.format(pincode=pincode)\n",
    "    response = requests.get(url)\n",
    "    soup = BeautifulSoup(response.content, 'html.parser')\n",
    "\n",
    "    names, emails, phones = [], [], []\n",
    "\n",
    "    # Extract advisor details if available\n",
    "    advisors = soup.find_all('div', class_='panel-body')\n",
    "    for advisor in advisors:\n",
    "        name_tag = advisor.find('h2', class_='advisor-name')\n",
    "        email_tag = advisor.find('a', class_='brand-links bold')\n",
    "        phone_tag = advisor.find('a', class_='brand-links bold advisor-mobile')\n",
    "\n",
    "        name = name_tag.get_text(strip=True) if name_tag else \"N/A\"\n",
    "        email = email_tag.get_text(strip=True) if email_tag else \"N/A\"\n",
    "        phone = phone_tag['title'] if phone_tag and phone_tag.has_attr('title') else \"N/A\"\n",
    "\n",
    "        names.append(name)\n",
    "        emails.append(email)\n",
    "        phones.append(phone)\n",
    "\n",
    "    # Return the extracted data as a DataFrame\n",
    "    return pd.DataFrame({'Name': names, 'Email': emails, 'Phone': phones})\n",
    "\n",
    "# Read pin codes from the uploaded Excel file\n",
    "input_file = '/content/Pincodes Mumbai.xlsx'\n",
    "pincode_data = pd.read_excel(input_file)\n",
    "pincodes = pincode_data['Pincode'].astype(str)  # Ensure pincode is a string\n",
    "\n",
    "# Create an Excel writer to save results\n",
    "output_file = '/content/Details_from_Region.xlsx'\n",
    "with pd.ExcelWriter(output_file, engine='openpyxl') as writer:\n",
    "    for pincode in pincodes:\n",
    "        print(f\"Processing pincode: {pincode}\")\n",
    "        try:\n",
    "            data = extract_data(pincode)\n",
    "            if not data.empty:\n",
    "                # Add \"Sl. No.\" column starting from 1\n",
    "                data.insert(0, 'Sl. No.', range(1, len(data) + 1))\n",
    "\n",
    "                # Write to Excel sheet for this pincode\n",
    "                data.to_excel(writer, sheet_name=f\"Pincode_{pincode}\", index=False)\n",
    "        except Exception as e:\n",
    "            print(f\"Error processing pincode {pincode}: {e}\")\n",
    "\n",
    "print(f\"Data extraction complete. Consolidated data saved to {output_file}.\")\n"
   ]
  }
 ],
 "metadata": {
  "language_info": {
   "name": "python"
  }
 },
 "nbformat": 4,
 "nbformat_minor": 2
}
